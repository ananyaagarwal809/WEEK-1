{
  "nbformat": 4,
  "nbformat_minor": 0,
  "metadata": {
    "colab": {
      "provenance": []
    },
    "kernelspec": {
      "name": "python3",
      "display_name": "Python 3"
    },
    "language_info": {
      "name": "python"
    }
  },
  "cells": [
    {
      "cell_type": "code",
      "execution_count": null,
      "metadata": {
        "colab": {
          "base_uri": "https://localhost:8080/"
        },
        "id": "qPeLd-MKFpbQ",
        "outputId": "17ef935e-a293-46df-e44b-02b61eccb0c3"
      },
      "outputs": [
        {
          "output_type": "stream",
          "name": "stdout",
          "text": [
            "Enter a number--> 87\n",
            "Weird\n"
          ]
        }
      ],
      "source": [
        "#py-if-else task: Uses conditional statements (if-elif-else) to make decisions based on input values.\n",
        "#https://www.hackerrank.com/challenges/py-if-else/problem\n",
        "n=int(input(\"Enter a number--> \"))\n",
        "if n%2!=0:\n",
        "  print(\"Weird\")\n",
        "else:\n",
        "  if n>=2 and n<=5:\n",
        "    print(\"Not Weird\")\n",
        "  elif n>=6 and n<=20:\n",
        "    print(\"Weird\")\n",
        "  else:\n",
        "    print(\"Not Weird\")"
      ]
    },
    {
      "cell_type": "code",
      "source": [
        "# python-arithmetic-operators: Involves performing basic mathematical operations like addition, subtraction, multiplication, and division.\n",
        "# https://www.hackerrank.com/challenges/python-arithmetic-operators/problem?isFullScreen=true\n",
        "a = int(input(\"Enter a--> \"))\n",
        "b = int(input(\"Enter b--> \"))\n",
        "print(a+b)\n",
        "print(a-b)\n",
        "print(a*b)"
      ],
      "metadata": {
        "colab": {
          "base_uri": "https://localhost:8080/"
        },
        "id": "_Y-HjjSzpSs-",
        "outputId": "a6b5acb0-71d7-4f7e-f0d8-dfc7a9b72cc4"
      },
      "execution_count": null,
      "outputs": [
        {
          "output_type": "stream",
          "name": "stdout",
          "text": [
            "Enter a--> 3\n",
            "Enter b--> 5\n",
            "8\n",
            "-2\n",
            "15\n"
          ]
        }
      ]
    },
    {
      "cell_type": "code",
      "source": [
        "\n"
      ],
      "metadata": {
        "id": "ue9GcIY7xGCr"
      },
      "execution_count": null,
      "outputs": []
    },
    {
      "cell_type": "code",
      "source": [
        "# compress-the-string: Compresses a string by counting consecutive characters, often using itertools.groupby()\n",
        "# https://www.hackerrank.com/challenges/compress-the-string/problem?isFullScreen=true\n",
        "from itertools import groupby\n",
        "def run_length_encoding(s):\n",
        "    return [(len(list(group)), int(key)) for key, group in groupby(s)]\n",
        "s = \"1222311\"\n",
        "output = run_length_encoding(s)\n",
        "print(\" \".join(map(str, output)))"
      ],
      "metadata": {
        "colab": {
          "base_uri": "https://localhost:8080/"
        },
        "id": "B3jQ92l8Vxvy",
        "outputId": "c21018be-5a50-4467-e009-4808f2df2bc0"
      },
      "execution_count": null,
      "outputs": [
        {
          "output_type": "stream",
          "name": "stdout",
          "text": [
            "(1, 1) (3, 2) (1, 3) (2, 1)\n"
          ]
        }
      ]
    },
    {
      "cell_type": "code",
      "source": [
        "# write-a-function: Teaches how to define reusable blocks of code using the def keyword.\n",
        "# https://www.hackerrank.com/challenges/write-a-function/problem?isFullScreen=true\n",
        "def is_leap(year):\n",
        "    leap = False\n",
        "\n",
        "    # Write your logic here\n",
        "    if (year % 400==0):\n",
        "        return True\n",
        "    if (year % 100==0):\n",
        "        return leap\n",
        "    if (year % 4==0):\n",
        "        return True\n",
        "    else:\n",
        "        return leap\n",
        "is_leap(2002)"
      ],
      "metadata": {
        "colab": {
          "base_uri": "https://localhost:8080/"
        },
        "id": "X70d1D2ZV1ty",
        "outputId": "05c90b5a-021b-4f0f-efc6-c9088fe90fc1"
      },
      "execution_count": null,
      "outputs": [
        {
          "output_type": "execute_result",
          "data": {
            "text/plain": [
              "False"
            ]
          },
          "metadata": {},
          "execution_count": 5
        }
      ]
    },
    {
      "cell_type": "code",
      "source": [
        "# word-order: Counts and displays the number of occurrences of each word while preserving their input order.\n",
        "# https://www.hackerrank.com/challenges/word-order/problem\n",
        "n=int(input())\n",
        "words=[input().strip() for i in range(n)]\n",
        "d={}\n",
        "d=d.fromkeys(words,0)\n",
        "for word in words:\n",
        "    d[word]+=1\n",
        "print(len(d))\n",
        "print(\" \".join(map(str,d.values())))"
      ],
      "metadata": {
        "colab": {
          "base_uri": "https://localhost:8080/"
        },
        "id": "tHFldVWFWPcg",
        "outputId": "b8d95154-4020-4325-a15f-e33f6cdde61c"
      },
      "execution_count": null,
      "outputs": [
        {
          "output_type": "stream",
          "name": "stdout",
          "text": [
            "4\n",
            "ananya\n",
            "agarwal\n",
            "yes\n",
            "ananya\n",
            "3\n",
            "2 1 1\n"
          ]
        }
      ]
    },
    {
      "cell_type": "code",
      "source": [
        "# python-tuples: Introduces immutable sequences and their use in operations like hashing.\n",
        "# https://www.hackerrank.com/challenges/python-tuples/problem?isFullScreen=true\n",
        "n = int(input())\n",
        "integer_list = map(int, input().split())\n",
        "print(hash(tuple(integer_list)))"
      ],
      "metadata": {
        "colab": {
          "base_uri": "https://localhost:8080/"
        },
        "id": "_Kf72veochVI",
        "outputId": "f2a4d3cf-dc5e-405c-d1fe-1e765c28aa18"
      },
      "execution_count": null,
      "outputs": [
        {
          "output_type": "stream",
          "name": "stdout",
          "text": [
            "2\n",
            "12\n",
            "-860454829093830431\n"
          ]
        }
      ]
    },
    {
      "cell_type": "code",
      "source": [
        "# finding-the-percentage: Calculates and formats the average marks of a student from a given dataset.\n",
        "# https://www.hackerrank.com/challenges/finding-the-percentage/problem?isFullScreen=true\n",
        "n = int(input())\n",
        "student_marks = {}\n",
        "total_score = 0\n",
        "average_score = 0\n",
        "\n",
        "for _ in range(n):\n",
        "    name, *line = input().split()\n",
        "    scores = list(map(float, line))\n",
        "    student_marks[name] = scores\n",
        "\n",
        "query_name = input()\n",
        "for st_score in student_marks[query_name]:\n",
        "    total_score += st_score\n",
        "average_score = total_score / len(student_marks[query_name])\n",
        "print(f\"{average_score:.2f}\")"
      ],
      "metadata": {
        "colab": {
          "base_uri": "https://localhost:8080/"
        },
        "id": "f4TWxgSxeWQf",
        "outputId": "15af1e09-e118-4a07-ee84-d6860acaac01"
      },
      "execution_count": null,
      "outputs": [
        {
          "output_type": "stream",
          "name": "stdout",
          "text": [
            "2\n",
            "ananya 98 67 87\n",
            "abhishek 34 99 76\n",
            "ananya\n",
            "84.00\n"
          ]
        }
      ]
    },
    {
      "cell_type": "code",
      "source": [
        "# python-string-formatting: Demonstrates ways to format and align strings and numbers for clean output.\n",
        "# https://www.hackerrank.com/challenges/python-string-formatting/problem?isFullScreen=true\n",
        "def print_formatted(number):\n",
        "    w = len(format(number, 'b'))\n",
        "    for i in range(1, number+1):\n",
        "        dec = str(i).rjust(w)\n",
        "        octal = format(i, 'o').rjust(w)\n",
        "        hexa = format(i, 'X').rjust(w)\n",
        "        binary = format(i, 'b').rjust(w)\n",
        "        print(f\"{dec} {octal} {hexa} {binary}\")\n",
        "print_formatted(18)"
      ],
      "metadata": {
        "colab": {
          "base_uri": "https://localhost:8080/"
        },
        "id": "GjKgfxZ-fmKA",
        "outputId": "a45421d9-c14b-449e-82e3-89a250ae7273"
      },
      "execution_count": null,
      "outputs": [
        {
          "output_type": "stream",
          "name": "stdout",
          "text": [
            "    1     1     1     1\n",
            "    2     2     2    10\n",
            "    3     3     3    11\n",
            "    4     4     4   100\n",
            "    5     5     5   101\n",
            "    6     6     6   110\n",
            "    7     7     7   111\n",
            "    8    10     8  1000\n",
            "    9    11     9  1001\n",
            "   10    12     A  1010\n",
            "   11    13     B  1011\n",
            "   12    14     C  1100\n",
            "   13    15     D  1101\n",
            "   14    16     E  1110\n",
            "   15    17     F  1111\n",
            "   16    20    10 10000\n",
            "   17    21    11 10001\n",
            "   18    22    12 10010\n"
          ]
        }
      ]
    },
    {
      "cell_type": "code",
      "source": [],
      "metadata": {
        "id": "SSOKI6HJgl33"
      },
      "execution_count": null,
      "outputs": []
    }
  ]
}